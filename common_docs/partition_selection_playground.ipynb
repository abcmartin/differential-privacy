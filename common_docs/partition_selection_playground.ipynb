{
  "cells": [
    {
      "metadata": {
        "id": "pd0KTDtBn24U"
      },
      "cell_type": "code",
      "source": [
        "# Copyright 2025 Google LLC.\n",
        "#\n",
        "# Licensed under the Apache License, Version 2.0 (the \"License\");\n",
        "# you may not use this file except in compliance with the License.\n",
        "# You may obtain a copy of the License at\n",
        "#\n",
        "#      http://www.apache.org/licenses/LICENSE-2.0\n",
        "#\n",
        "# Unless required by applicable law or agreed to in writing, software\n",
        "# distributed under the License is distributed on an \"AS IS\" BASIS,\n",
        "# WITHOUT WARRANTIES OR CONDITIONS OF ANY KIND, either express or implied.\n",
        "# See the License for the specific language governing permissions and\n",
        "# limitations under the License."
      ],
      "outputs": [],
      "execution_count": null
    },
    {
      "metadata": {
        "id": "view-in-github",
        "colab_type": "text"
      },
      "cell_type": "markdown",
      "source": [
        "\u003ca href=\"https://colab.research.google.com/github/google/differential-privacy/blob/main/common_docs/partition_selection_playground.ipynb\" target=\"_parent\"\u003e\u003cimg src=\"https://colab.research.google.com/assets/colab-badge.svg\" alt=\"Open In Colab\"/\u003e\u003c/a\u003e"
      ]
    },
    {
      "metadata": {
        "id": "1-UTSWYmfq6i"
      },
      "cell_type": "markdown",
      "source": [
        "# Optimal Partition Selection\n",
        "\n",
        "This notebook presents Python code to enable exploration of the optimal\n",
        "partition selection algorithm presented in https://arxiv.org/pdf/2006.03684.pdf.\n",
        "This experimental code is only provided for exploration purposes, and should not\n",
        "be used for production use cases."
      ]
    },
    {
      "metadata": {
        "id": "QihnuIsSu41Q"
      },
      "cell_type": "code",
      "source": [
        "import numpy as np\n",
        "from matplotlib import pyplot as plt\n",
        "import seaborn as sns\n",
        "sns.set(rc={'figure.figsize':(15,8)})"
      ],
      "outputs": [],
      "execution_count": null
    },
    {
      "metadata": {
        "id": "XPX_D9I7vK6r"
      },
      "cell_type": "code",
      "source": [
        "# PreAggPartitionSelection implements optimal partition selection - instead\n",
        "# of thresholding a noised value to determine whether or not a partition\n",
        "# should be kept, this uses a formula derived from the\n",
        "# original probablistic definition of differential privacy to generate the\n",
        "# probability with which a partition should be kept. The math is shown in\n",
        "# https://arxiv.org/pdf/2006.03684.pdf.\n",
        "class PreaggPartitionSelection(object):\n",
        "\n",
        "  def __init__(self, epsilon: float, delta: float):\n",
        "    self._epsilon = epsilon\n",
        "    self._delta = delta\n",
        "    self._crossover_1 = (\n",
        "        1 +\n",
        "        np.floor(np.log1p(np.tanh(epsilon / 2) * (1 / delta - 1)) / epsilon))\n",
        "    self._p_crossover = (np.expm1(self._crossover_1 * self.epsilon) /\n",
        "                         np.expm1(self.epsilon)) * self.delta\n",
        "    self._crossover_2 = self._crossover_1 + np.floor((1.0 / epsilon) * np.log1p(\n",
        "        (np.expm1(epsilon) / delta) * (1 - self._p_crossover)))\n",
        "\n",
        "  @property\n",
        "  def epsilon(self):\n",
        "    return self._epsilon\n",
        "\n",
        "  @property\n",
        "  def delta(self):\n",
        "    return self._delta\n",
        "\n",
        "  @property\n",
        "  def first_crossover(self):\n",
        "    return self._crossover_1\n",
        "\n",
        "  @property\n",
        "  def second_crossover(self):\n",
        "    return self._crossover_2\n",
        "\n",
        "  def sample_keep(self, num_users: int):\n",
        "    \"\"\"Sample a Bernoulli RV whether or not the variable should be exposed.\"\"\"\n",
        "    return np.random.Bernoulli(self.probability_of_keep(num_users))\n",
        "\n",
        "  # ProbabilityOfKeep returns the probability with which a partition with n\n",
        "  # users should be kept, Thm. 1 of https://arxiv.org/pdf/2006.03684.pdf\n",
        "  def probability_of_keep(self, n: int) -\u003e float:\n",
        "   conds =  np.array([n == 0, n \u003c= self.first_crossover, n \u003c= self.second_crossover, \n",
        "      n \u003e self.first_crossover])\n",
        "   choicelist = np.array([0.0, ((np.expm1(n * self.epsilon) / np.expm1(self.epsilon)) *\n",
        "              self.delta),\n",
        "          self._p_crossover -\n",
        "          (1 - self._p_crossover +\n",
        "           (self.delta / np.expm1(self.epsilon))) * np.expm1(-(n - self.first_crossover) * self.epsilon),\n",
        "     1.0])\n",
        "   return np.select(conds, choicelist)"
      ],
      "outputs": [],
      "execution_count": null
    },
    {
      "metadata": {
        "id": "LYDAMoNogVjN"
      },
      "cell_type": "markdown",
      "source": [
        "## Plot probabilities for varying values of $\\varepsilon$ and $\\delta$\n",
        "The first plot shows the probability of keeping a partion as a function\n",
        "of the number of users contributiong to the partition. The second plot\n",
        "shows the change in probability of keeping the partition compared to a\n",
        "partition with one less user. The third plot is the same, but on a\n",
        "log-scale. This makes it apparent that the incremental probablities\n",
        "scale exponentionally, except near the crossover points."
      ]
    },
    {
      "metadata": {
        "id": "bv5V7CtwvNyg"
      },
      "cell_type": "code",
      "source": [
        "#@title Probabilities and diffs{ run: \"auto\" }\n",
        "epsilon = 1.034  #@param { type: \"slider\", min: 0.01, max: 3 , step: 0.001}\n",
        "log10_delta = -7.806  #@param { type: \"slider\", min: -15, max: 0 , step: 0.001}\n",
        "\n",
        "pp = PreaggPartitionSelection(epsilon, np.power(10, log10_delta))\n",
        "fig, axes = plt.subplots(3, 1, figsize=(25, 15))\n",
        "sns.lineplot(\n",
        "    ax=axes[0],\n",
        "    x=np.arange(pp.second_crossover + 2),\n",
        "    y=pp.probability_of_keep(np.arange(pp.second_crossover + 2)),ci=None)\n",
        "axes[0].set(ylabel='Probability of keeping partition')\n",
        "axes[0].set(xlabel='Number of users')\n",
        "sns.barplot(\n",
        "    ax=axes[1],\n",
        "    x=np.arange(pp.second_crossover + 1) + 1,\n",
        "    y=np.diff(pp.probability_of_keep(np.arange(pp.second_crossover + 2))),ci=None)\n",
        "axes[1].set(ylabel='Incremental probability of keeping partition')\n",
        "axes[1].set(xlabel='Number of users')\n",
        "sns.lineplot(\n",
        "    ax=axes[2],\n",
        "    x=np.arange(pp.second_crossover + 1) + 1,\n",
        "    y=np.diff(pp.probability_of_keep(np.arange(pp.second_crossover + 2))),ci=None)\n",
        "axes[2].set_yscale('log')\n",
        "axes[2].set(ylabel='Incremental probability of keeping partition')\n",
        "axes[2].set(xlabel='Number of users')\n",
        "plt.plot()"
      ],
      "outputs": [],
      "execution_count": null
    }
  ],
  "metadata": {
    "colab": {
      "name": "Partition selection playground.ipynb",
      "provenance": [],
      "collapsed_sections": [],
      "authorship_tag": "ABX9TyOcI8emsgdxD+Wxlz3mQIc6",
      "include_colab_link": true
    },
    "kernelspec": {
      "name": "python3",
      "display_name": "Python 3"
    },
    "language_info": {
      "name": "python"
    }
  },
  "nbformat": 4,
  "nbformat_minor": 0
}
